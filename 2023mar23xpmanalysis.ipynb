{
  "nbformat": 4,
  "nbformat_minor": 0,
  "metadata": {
    "colab": {
      "provenance": [],
      "include_colab_link": true
    },
    "kernelspec": {
      "name": "python3",
      "display_name": "Python 3"
    },
    "language_info": {
      "name": "python"
    }
  },
  "cells": [
    {
      "cell_type": "markdown",
      "metadata": {
        "id": "view-in-github",
        "colab_type": "text"
      },
      "source": [
        "<a href=\"https://colab.research.google.com/github/wambak/OnlineXPMFitter/blob/main/2023mar23xpmanalysis.ipynb\" target=\"_parent\"><img src=\"https://colab.research.google.com/assets/colab-badge.svg\" alt=\"Open In Colab\"/></a>"
      ]
    },
    {
      "cell_type": "code",
      "source": [
        "from google.colab import drive\n",
        "# This will prompt for authorization.\n",
        "drive.mount('/content/drive')\n",
        "! git clone https://github.com/nEXOSkyline/XPMSimulator\n",
        "! git clone https://github.com/nEXOSkyline/OnlineXPMFitter"
      ],
      "metadata": {
        "colab": {
          "base_uri": "https://localhost:8080/"
        },
        "id": "QbPNmLLlPkLz",
        "outputId": "c0e9d1a9-6421-4374-cbc3-838c5e105cab"
      },
      "execution_count": 1,
      "outputs": [
        {
          "output_type": "stream",
          "name": "stdout",
          "text": [
            "Mounted at /content/drive\n",
            "Cloning into 'XPMSimulator'...\n",
            "remote: Enumerating objects: 294, done.\u001b[K\n",
            "remote: Counting objects: 100% (87/87), done.\u001b[K\n",
            "remote: Compressing objects: 100% (81/81), done.\u001b[K\n",
            "remote: Total 294 (delta 35), reused 12 (delta 6), pack-reused 207\u001b[K\n",
            "Receiving objects: 100% (294/294), 353.31 KiB | 4.71 MiB/s, done.\n",
            "Resolving deltas: 100% (129/129), done.\n",
            "Cloning into 'OnlineXPMFitter'...\n",
            "remote: Enumerating objects: 196, done.\u001b[K\n",
            "remote: Counting objects: 100% (9/9), done.\u001b[K\n",
            "remote: Compressing objects: 100% (7/7), done.\u001b[K\n",
            "remote: Total 196 (delta 4), reused 6 (delta 2), pack-reused 187\u001b[K\n",
            "Receiving objects: 100% (196/196), 123.45 KiB | 2.02 MiB/s, done.\n",
            "Resolving deltas: 100% (93/93), done.\n"
          ]
        }
      ]
    },
    {
      "cell_type": "code",
      "source": [
        "! pip install numdifftools"
      ],
      "metadata": {
        "colab": {
          "base_uri": "https://localhost:8080/"
        },
        "id": "03IuFkl2D101",
        "outputId": "2d71164f-d67a-49d7-b310-2fee0eb8eecb"
      },
      "execution_count": 5,
      "outputs": [
        {
          "output_type": "stream",
          "name": "stdout",
          "text": [
            "Looking in indexes: https://pypi.org/simple, https://us-python.pkg.dev/colab-wheels/public/simple/\n",
            "Requirement already satisfied: numdifftools in /usr/local/lib/python3.9/dist-packages (0.9.41)\n",
            "Requirement already satisfied: numpy>=1.9 in /usr/local/lib/python3.9/dist-packages (from numdifftools) (1.22.4)\n",
            "Requirement already satisfied: scipy>=0.8 in /usr/local/lib/python3.9/dist-packages (from numdifftools) (1.10.1)\n"
          ]
        }
      ]
    },
    {
      "cell_type": "code",
      "source": [
        "! pip install lmfit"
      ],
      "metadata": {
        "colab": {
          "base_uri": "https://localhost:8080/"
        },
        "id": "gV2zP8ZEST9c",
        "outputId": "f3327835-571c-4ce9-bfad-d578970051ee"
      },
      "execution_count": 6,
      "outputs": [
        {
          "output_type": "stream",
          "name": "stdout",
          "text": [
            "Looking in indexes: https://pypi.org/simple, https://us-python.pkg.dev/colab-wheels/public/simple/\n",
            "Requirement already satisfied: lmfit in /usr/local/lib/python3.9/dist-packages (1.1.0)\n",
            "Requirement already satisfied: scipy>=1.6 in /usr/local/lib/python3.9/dist-packages (from lmfit) (1.10.1)\n",
            "Requirement already satisfied: asteval>=0.9.28 in /usr/local/lib/python3.9/dist-packages (from lmfit) (0.9.29)\n",
            "Requirement already satisfied: uncertainties>=3.1.4 in /usr/local/lib/python3.9/dist-packages (from lmfit) (3.1.7)\n",
            "Requirement already satisfied: numpy>=1.19 in /usr/local/lib/python3.9/dist-packages (from lmfit) (1.22.4)\n",
            "Requirement already satisfied: future in /usr/local/lib/python3.9/dist-packages (from uncertainties>=3.1.4->lmfit) (0.18.3)\n"
          ]
        }
      ]
    },
    {
      "cell_type": "code",
      "source": [
        "import glob\n",
        "import sys\n",
        "import numpy as np\n",
        "import matplotlib.pyplot as plt\n",
        "filelist = glob.glob('/content/OnlineXPMFitter/waveformCapture/captured/20*')\n",
        "print((','.join([ str(num)+myfile+'\\n' for num,myfile in zip( np.array(range(0,len(filelist)-1)),filelist ) ])) )\n",
        "xy = np.loadtxt(filelist[6],delimiter=',')\n",
        "plt.plot(xy[:,0],xy[:,1])"
      ],
      "metadata": {
        "colab": {
          "base_uri": "https://localhost:8080/",
          "height": 724
        },
        "id": "6sH4XzQ7qLP2",
        "outputId": "87602802-1053-4763-ac58-1e02c7caeada"
      },
      "execution_count": 44,
      "outputs": [
        {
          "output_type": "stream",
          "name": "stdout",
          "text": [
            "0/content/OnlineXPMFitter/waveformCapture/captured/20230307test006\n",
            ",1/content/OnlineXPMFitter/waveformCapture/captured/20230305test001\n",
            ",2/content/OnlineXPMFitter/waveformCapture/captured/20230307test002\n",
            ",3/content/OnlineXPMFitter/waveformCapture/captured/202303072014test000\n",
            ",4/content/OnlineXPMFitter/waveformCapture/captured/20230307test005\n",
            ",5/content/OnlineXPMFitter/waveformCapture/captured/20230307test001\n",
            ",6/content/OnlineXPMFitter/waveformCapture/captured/202303072014test001\n",
            ",7/content/OnlineXPMFitter/waveformCapture/captured/202303072014test003\n",
            ",8/content/OnlineXPMFitter/waveformCapture/captured/202303070410test001\n",
            ",9/content/OnlineXPMFitter/waveformCapture/captured/202303070410test000\n",
            ",10/content/OnlineXPMFitter/waveformCapture/captured/20230305test000\n",
            ",11/content/OnlineXPMFitter/waveformCapture/captured/202303072014test002\n",
            ",12/content/OnlineXPMFitter/waveformCapture/captured/20230307test000\n",
            ",13/content/OnlineXPMFitter/waveformCapture/captured/20230307test003\n",
            "\n"
          ]
        },
        {
          "output_type": "execute_result",
          "data": {
            "text/plain": [
              "[<matplotlib.lines.Line2D at 0x7fafbc021160>]"
            ]
          },
          "metadata": {},
          "execution_count": 44
        },
        {
          "output_type": "display_data",
          "data": {
            "text/plain": [
              "<Figure size 640x480 with 1 Axes>"
            ],
            "image/png": "[encoded data removed]"
          },
          "metadata": {}
        }
      ]
    },
    {
      "cell_type": "code",
      "source": [
        "from uncertainties.core import wrap\n",
        "import matplotlib as mpl\n",
        "mpl.rc('figure',facecolor='white')\n",
        "mpl.rc('lines', markersize = 1.6 )\n",
        "mpl.rc('lines', markeredgewidth = 0.0 )\n",
        "#mpl.rc('font', **{'family':'sans-serif','sans-serif':['Arial']})\n",
        "import matplotlib.pyplot as plt\n",
        "import time\n",
        "import matplotlib.dates as dt\n",
        "import numpy as np\n",
        "import datetime\n",
        "\n",
        "#import ROOT\n",
        "from scipy import integrate\n",
        "from scipy import interpolate\n",
        "from scipy.special import erfc\n",
        "from scipy.optimize import curve_fit\n",
        "from lmfit.models import SkewedVoigtModel\n",
        "from lmfit.models import ExponentialGaussianModel\n",
        "from lmfit.models import SkewedGaussianModel\n",
        "from lmfit import Model\n",
        "from lmfit import Parameters\n",
        "import sys\n",
        "sys.path.append('/content/OnlineXPMFitter/waveformCapture/captured')\n",
        "\n",
        "pkmodel = SkewedVoigtModel()\n",
        "catmodel = ExponentialGaussianModel()\n",
        "pars = pkmodel.make_params()\n",
        "catpars = catmodel.make_params()\n",
        "err = 0.0\n",
        "sqrt2 = np.sqrt(2.0)\n",
        "\n",
        "def diff_func(x,cat,an,offst,thold,tcrise,tarise,center,gamma,skew):\n",
        "    global err\n",
        "    y = cat*np.exp(-((-x+10.0+tcrise**2/thold)/(sqrt2*tcrise))**2)*np.exp( -(x-10.0-tcrise**2/(2*thold))/thold )\n",
        "    y = y + (-1.0/thold)*0.5*cat*np.exp( -(x-10.0-tcrise**2/(2*thold))/thold )*erfc((-x+10.0+tcrise**2/thold)/(sqrt2*tcrise))\n",
        "    pars['amplitude'].value = an\n",
        "    pars['sigma'].value = tarise\n",
        "    pars['center'].value = center\n",
        "    pars['gamma'].value = gamma\n",
        "    pars['skew'].value = skew\n",
        "    integrand = lambda xi : pkmodel.eval( pars, x=xi )\n",
        "    norm = integrate.quad( integrand, -np.inf , np.inf )[0] \n",
        "    svint = np.array([ integrate.quad( integrand, -np.inf,xi )[0] for xi in x ])/norm\n",
        "    y = y - pkmodel.eval( pars, x=x )*np.exp( -(x-81.9-tarise**2/(2*thold))/thold )\n",
        "    y = y + (1.0/thold)*an*svint*np.exp( -(x-81.9)/thold )\n",
        "    return y\n",
        "\n",
        "def fitter_func(x,cat,an,offst,tcrise,tarise):\n",
        "    global err\n",
        "    thold = 395.3\n",
        "    x_beg = x[x<10.0]\n",
        "    x_mid = x[(x>=10.0)*(x<81.9)]\n",
        "    x_end = x[x>=81.9]\n",
        "    y_beg = 0.5*cat*erfc((-x_beg+10.0)/tcrise) - 0.5*an*erfc((-x_beg+81.9)/tarise)\n",
        "    y_mid = 0.5*cat*erfc((-x_mid+10.0)/tcrise)*np.exp(-(x_mid-10.0)/thold) - 0.5*an*erfc((-x_mid+81.9)/tarise)\n",
        "    y_end = 0.5*cat*erfc((-x_end+10.0)/tcrise)*np.exp(-(x_end-10.0)/thold) - 0.5*an*erfc((-x_end+81.9)/tarise)*np.exp(-(x_end-81.9)/thold)\n",
        "    y = np.concatenate((y_beg,y_mid,y_end),axis=None)\n",
        "    y = y + offst\n",
        "    return y\n",
        "\n",
        "def theory_func(x,cat,an,offst,thold,tcrise,tarise):\n",
        "    global err\n",
        "    y = 0.5*cat*erfc((-x+10.0+tcrise**2/thold)/(sqrt2*tcrise))*np.exp( -(x-10.0-tcrise**2/(2*thold))/thold )\n",
        "    y = y - 0.5*an*erfc((-x+81.9+tarise**2/thold)/(sqrt2*tarise))*np.exp( -(x-81.9-tarise**2/(2*thold))/thold )\n",
        "    y = y + offst\n",
        "    return y\n",
        "\n",
        "def thesis_func(x,cat,an,offst,thold,tcrise,tarise):\n",
        "    global err\n",
        "    y = 0.5*cat*erfc((-x+10.0)/(tcrise))*np.exp( -(x-10.0)/thold )\n",
        "    y = y - 0.5*an*erfc((-x+81.9)/(tarise))*np.exp( -(x-81.9)/thold )\n",
        "    y = y + offst\n",
        "    return y\n",
        "\n",
        "def svi(x,tarise,center,gamma,skew) :\n",
        "    pars['sigma'].value = tarise\n",
        "    pars['center'].value = center\n",
        "    pars['gamma'].value = gamma\n",
        "    pars['skew'].value = skew\n",
        "    integrand = lambda xi : pkmodel.eval( pars, x=xi )\n",
        "    norm = integrate.quad( integrand, -np.inf , np.inf )[0] \n",
        "    y = np.array([ integrate.quad( integrand, -np.inf,xi )[0] for xi in x ])/norm\n",
        "    return y\n",
        "\n",
        "def double_diff(x,cat,an,tcrise,cent_c,gam_c,tarise,cent_a,gam_a,skew_a):\n",
        "    catpars['amplitude'].value = cat\n",
        "    catpars['sigma'].value = tcrise\n",
        "    catpars['center'].value = cent_c\n",
        "    catpars['gamma'].value = gam_c\n",
        "    y = catmodel.eval( catpars, x=x )#*np.exp( -(x-10.0)/thold )\n",
        "    pars['amplitude'].value = an\n",
        "    pars['sigma'].value = tarise\n",
        "    pars['center'].value = cent_a\n",
        "    pars['gamma'].value = gam_a\n",
        "    pars['skew'].value = skew_a\n",
        "    y = y - pkmodel.eval( pars, x=x)#*np.exp( -(x-81.9)/thold )\n",
        "    return y\n",
        " \n",
        "def smeared_func(x,cat,an,offst,thold,tcrise,tarise,center,gamma,skew):\n",
        "    global err\n",
        "    y = 0.5*cat*erfc((-x+10.0+tcrise**2/thold)/(sqrt2*tcrise))*np.exp( -(x-10.0-tcrise**2/(2*thold))/thold )\n",
        "    pars['amplitude'].value = an\n",
        "    pars['sigma'].value = tarise\n",
        "    pars['center'].value = center\n",
        "    pars['gamma'].value = gamma\n",
        "    pars['skew'].value = skew\n",
        "    integrand = lambda xi : pkmodel.eval( pars, x=xi )\n",
        "    norm = integrate.quad( integrand, -np.inf , np.inf )[0] \n",
        "    svint = np.array([ integrate.quad( integrand, -np.inf,xi )[0] for xi in x ])/norm\n",
        "    y = y - an*svint*np.exp( -(x-81.9)/thold )\n",
        "    y = y + offst\n",
        "    return y\n",
        "\n",
        "def extra_smeared(x,cat,an,tcrise,cent_c,gam_c,tarise,cent_a,gam_a,skew_a,offst):\n",
        "    catpars['amplitude'].value = cat\n",
        "    catpars['sigma'].value = tcrise\n",
        "    catpars['center'].value = cent_c\n",
        "    catpars['gamma'].value = gam_c\n",
        "    #tfine = np.arange(x[-1]-1000.0,x[-1],0.08)\n",
        "    integrand_c = catmodel.eval(catpars, x=x )\n",
        "    integral_c = integrate.cumulative_trapezoid( integrand_c, x) \n",
        "    integral_c = np.append( integral_c, integral_c[-1] )\n",
        "    y = integral_c*np.exp( -(x-10.0)/395.3 )\n",
        "    pars['amplitude'].value = an\n",
        "    pars['sigma'].value = tarise\n",
        "    pars['center'].value = cent_a\n",
        "    pars['gamma'].value = gam_a\n",
        "    pars['skew'].value = skew_a\n",
        "    integrand_a = pkmodel.eval(pars, x=x )\n",
        "    integral_a = integrate.cumulative_trapezoid( integrand_a, x) \n",
        "    integral_a = np.append( integral_a, integral_a[-1] )\n",
        "    y = y - integral_a*np.exp( -(x-81.9)/395.3 )\n",
        "    y = y + offst\n",
        "    return y\n",
        "\n",
        "\n",
        "t = []\n",
        "volt = []\n",
        "wf = []\n",
        "#with open('sig_plus_bkg1.dat') as ff:\n",
        "with open('/content/OnlineXPMFitter/waveformCapture/captured/202303072014test001') as ff:\n",
        "    for line in ff:\n",
        "        try :\n",
        "            t.append( float(line.split(',')[0]) )\n",
        "            volt.append( float(line.split(',')[1]) )\n",
        "        except ValueError:\n",
        "            continue\n",
        "tb = []\n",
        "voltb = []\n",
        "with open('/content/OnlineXPMFitter/waveformCapture/captured/202303072014test000') as ff:\n",
        "    for line in ff:\n",
        "        try :\n",
        "            tb.append( float(line.split(',')[0]) )\n",
        "            voltb.append( float(line.split(',')[1]) )\n",
        "        except ValueError:\n",
        "            continue\n",
        "\n",
        "#wfmpre = '2;16;ASC;RP;MSB;500;\"Ch1, AC coupling, 2.0E-2 V/div, 4.0E-5 s/div, 500 points, Average mode\";Y;8.0E-7;0;-1.2E-4;\"s\";3.125E-6;0.0E0;-1.3824E4;\"V\"\\n' #16 bit\n",
        "#wfmpre = '1;8;ASC;RP;MSB;500;\"Ch1, AC coupling, 2.0E-2 V/div, 4.0E-5 s/div, 500 points, Average mode\";Y;8.0E-7;0;-1.2E-4;\"s\";8.0E-4;0.0E0;-5.4E1;\"V\"'\n",
        "#t = [ 1.0e6*(float(wfmpre.split(';')[8])*float(i)+float(wfmpre.split(';')[10])) for i in range(0,500) ]\n",
        "#volt = np.array([ 1.0e3*(( dl - float(wfmpre.split(';')[14]) )*float(wfmpre.split(';')[12]) - float(wfmpre.split(';')[13])) for dl in wfm ])\n",
        "#volt = volt + 44.6*2\n",
        "#bkg = [ 1.0e3*(( dl - float(wfmpre.split(';')[14]) )*float(wfmpre.split(';')[12]) - float(wfmpre.split(';')[13])) for dl in raw_bkg ]\n",
        "volt = np.array([ -v[1] + v[0] for v in zip( volt , voltb ) ])\n",
        "t = np.array(t)\n",
        "\n",
        "volt = np.array([np.exp(t0/395.3)*v for t0,v in zip(t,volt)])\n",
        "vprime = np.gradient(volt)/np.gradient(t)\n",
        "#baseline = np.concatenate((volt[0:150],volt[0:150],volt[0:150],volt[0:50]),axis=None)\n",
        "#baseline = baseline - np.mean(baseline)\n",
        "\n",
        "#p_i = [66.22,65.4702,41.5944,395.3,3.598,1.10272,80.4117,-390916.0,81.9]\n",
        "#p_i = [65.669502,66.09416,41.967726,395.3,3.598,1.0884104,81.320328,1.80825,0.38634939]\n",
        "p_i = [41.814864440434924, 41.513609990211904, 10.454241824848786, 2.500096809560329, 0.7947469675251235, 82.0070376906552, 2.7723460671136397, 0.3434182060200226, 1.3112624408030746, 0.48889382168534057]\n",
        "#p_i = [41.82455053072373, 41.518519441501844, 10.45413165289595, 2.553132362269809, 0.795176337700352, 81.98058071984204, 2.733861086074098, 0.36151105277231244, 1.307247568879716, 0.48234273366695435]\n",
        "#p_i = [41.9369652,42.0483193,10.0,3.598,0.980325759727434,81.9,1.80825,0.8,0.9,0.2]\n",
        "#p_i = [41.9369652,42.0483193,10.0,1.0,0.980325759727434,81.9,2.9,0.8,0.9,0.2]\n",
        "#p_i = [66.22,65.4702,41.5944,395.3,1.0,2.9,80.4117,-390916.0,81.9]\n",
        "#p_i = [41.22,41.4702,0.5944,395.3,3.598,1.0884104,81.320328,1.80825,0.38634939]\n",
        "#svi_norm = svi(t,p_i[5],p_i[6],p_i[7],p_i[8]) \n",
        "#svi_norm = interpolate.interp1d( t, svi_norm )\n",
        "\n",
        "def fast_smeared_func(x,cat,an,offst,thold,tcrise,tarise,center,gamma,skew):\n",
        "    global err\n",
        "    y = 0.5*cat*erfc((-x+10.0+tcrise**2/thold)/(sqrt2*tcrise))*np.exp( -(x-10.0-tcrise**2/(2*thold))/thold )\n",
        "    y = y-(an*svi_norm(x))*np.exp( -(x-center)/thold ) + offst\n",
        "    return y\n",
        "\n",
        "import random\n",
        "\n",
        "import csv\n",
        "\n",
        "\n",
        "#wavmodel = Model(smeared_func,nan_policy='raise')\n",
        "wavmodel = Model(extra_smeared,nan_policy='raise')\n",
        "#wavmodel = Model(fitter_func,nan_policy='raise')\n",
        "wavparams = wavmodel.make_params()\n",
        "\n",
        "wavparams['cat'].value = p_i[0]\n",
        "wavparams['cat'].vary = True\n",
        "wavparams['an'].value = p_i[1]\n",
        "wavparams['an'].vary = True\n",
        "wavparams['cent_c'].value = p_i[2]\n",
        "wavparams['cent_c'].vary = False\n",
        "wavparams['tcrise'].value = p_i[3]\n",
        "wavparams['tcrise'].vary = False\n",
        "wavparams['tarise'].value = p_i[4]\n",
        "wavparams['tarise'].vary = False\n",
        "wavparams['cent_a'].value = p_i[5]\n",
        "wavparams['cent_a'].vary = False\n",
        "wavparams['gam_a'].value = p_i[6]\n",
        "wavparams['gam_a'].vary = False\n",
        "wavparams['skew_a'].value = p_i[7]\n",
        "wavparams['skew_a'].vary = False\n",
        "wavparams['gam_c'].value = p_i[8]\n",
        "wavparams['gam_c'].vary = False\n",
        "wavparams['offst'].value = p_i[9]\n",
        "wavparams['offst'].vary = True\n",
        "\n",
        "def smchi2(vars,data):\n",
        "  model = Model(extra_smeared,nan_policy='raise')\n",
        "  chi2 = 0.0\n",
        "  f_y = model.eval(x=data[0],cat=vars[0],an=vars[1],cent_c=vars[2],tcrise=vars[3],tarise=vars[4],cent_a=vars[5],gam_a=vars[6],skew_a=vars[7],gam_c=vars[8],offst=vars[9])\n",
        "  for yi,f_yi in zip(data[1],f_y) :\n",
        "    chi2 -= (yi-f_yi)**2\n",
        "  return chi2\n",
        "#bvp,chip,n_p = (amoeba.amoeba(p_i,[1.5,1.5,0.5,0.5,0.5,0.5,0.5,0.5,0.5,1.5],smchi2,data=[t,volt],itmax=5000))\n",
        "#print('proposed w/simplex',bvp,chip,n_p)\n",
        "#print('simplex lifetime, proposed',(81.9-10.0)/np.log(bvp[0]/bvp[1]))\n",
        "\n",
        "#result = wavmodel.fit(volt,wavparams,x=t,method='nelder')\n",
        "#print('proposed w/lmfit',result.fit_report())\n",
        "#print('lmfit lifetime, proposed',(81.9-10.0)/np.log(result.best_values['cat']/result.best_values['an']))\n",
        "\n",
        "#b = result.best_values\n",
        "#print(b)\n",
        "fittermodel = Model(fitter_func,nan_policy='raise')\n",
        "p_i = [41.9369652,42.0483193,10.0,1.0,2.9,81.9,1.0,0.8,0.9,0.2]\n",
        "wp = fittermodel.make_params()\n",
        "wp['cat'].value = p_i[0]\n",
        "wp['cat'].vary = True\n",
        "wp['an'].value = p_i[1]\n",
        "wp['an'].vary = True\n",
        "wp['tarise'].value = p_i[4]\n",
        "wp['tarise'].vary = False\n",
        "wp['tcrise'].value = p_i[3]\n",
        "wp['tcrise'].vary = False\n",
        "wp['offst'].value = p_i[9]\n",
        "wp['offst'].vary = True\n",
        "\n",
        "#result2 = fittermodel.fit(volt,wp,x=t)\n",
        "#print('lmfit lifetime, standard',(81.9-10.0)/np.log(result2.best_values['cat']/result2.best_values['an']))\n",
        "#print('standard w/lmfit',result2.fit_report())\n",
        "\n",
        "#bv,chi,n = (amoeba.amoeba([41.9369655,42.0483183,0.5],[1.5,1.5,1.5],fitterchi2,data=[t,volt],itmax=5000))\n",
        "#print('standard w/simplex',bv,chi,n)\n",
        "#print('simplex lifetime, standard',(81.9-10.0)/np.log(bv[0]/bv[1]))\n",
        "#tfine = np.arange(t[0],t[-1]+0.8,(t[1]-t[0])/10.0)\n",
        "#simplex_p = wavmodel.eval(x=tfine,cat=bvp[0],an=bvp[1],cent_c=bvp[2],tcrise=bvp[3],tarise=bvp[4],cent_a=bvp[5],gam_a=bvp[6],skew_a=bvp[7],gam_c=bvp[8],offst=bvp[9])\n",
        "#proposed = wavmodel.eval(b,x=tfine)\n",
        "#simplex_s = fittermodel.eval(x=tfine,cat=bv[0],an=bv[1],tcrise=1.0,tarise=2.9,offst=bv[2],thold=395.3)\n",
        "#b2 = result2.best_values\n",
        "#stand_coarse = fittermodel.eval(x=t,cat=41.94,an=41.28,tcrise=1.0,tarise=2.9,offst=0.0,thold=395.3)\n",
        "\n",
        "#plt.plot(tfine,simplex_s,'c-',label='standard, AMOEBA')\n",
        "#plt.plot(tfine,result2.eval(x=tfine), 'b-',label='standard, lmfit')\n",
        "#plt.plot(tfine,simplex_p, 'r-',label='proposed, AMOEBA')\n",
        "plt.plot(t,vprime,'y-',label = 'trace')\n",
        "#plt.plot(tb,voltb,'b-',label = 'trace')\n",
        "plt.xlabel('time [$\\mu$s]')\n",
        "plt.ylabel('amplitude [mV]')\n",
        "#plt.xlim([-10,200])\n",
        "#plt.ylim([-10,55])\n",
        "#plt.legend(loc='upper right')\n",
        "#plt.figure()\n",
        "#standard = fittermodel.eval(x=tfine,cat=40.0,an=37.225,tcrise=1.0,tarise=2.9,offst=0.0,thold=395.3)\n",
        "#plt.plot(tfine,standard,'r-',label='standard (40.0 mV,37.2 mV)')\n",
        "#proposed = wavmodel.eval(x=tfine,cat=40.0,an=37.225,tcrise=bvp[3],tarise=bvp[4],offst=0.0,cent_c=bvp[2],cent_a=bvp[5],gam_a=bvp[6],skew_a=bvp[7],gam_c=bvp[8])\n",
        "#plt.plot(tfine,proposed,'g-',label='proposed (40.0 mV,37.2 mV)')\n",
        "\n",
        "#plt.xlabel('time [$\\mu$s]')\n",
        "#plt.ylabel('amplitude [mV]')\n",
        "#plt.xlim([-10,200])\n",
        "#plt.ylim([-10,55])\n",
        "#plt.legend(loc='upper right')\n",
        "\n",
        "plt.show()\n"
      ],
      "metadata": {
        "colab": {
          "base_uri": "https://localhost:8080/",
          "height": 453
        },
        "id": "BrElgb8OPKp_",
        "outputId": "3f964975-3a13-4155-9d83-f182172ae711"
      },
      "execution_count": 46,
      "outputs": [
        {
          "output_type": "display_data",
          "data": {
            "text/plain": [
              "<Figure size 640x480 with 1 Axes>"
            ],
            "image/png": "[encoded data removed]"
          },
          "metadata": {}
        }
      ]
    }
  ]
}